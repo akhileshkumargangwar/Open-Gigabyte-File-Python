{
 "cells": [
  {
   "cell_type": "markdown",
   "metadata": {
    "collapsed": false
   },
   "source": [
    "#                                      SQL practice session\n",
    "\n",
    "## To start off, re-write the code to extract the 5GB file to a database. You can look at my code if you get stuck, but **dont** copy paste. Look at the code, but type  it in yourself.\n",
    "\n",
    "* Make sure you delete the old database file, or rename it\n"
   ]
  },
  {
   "cell_type": "markdown",
   "metadata": {},
   "source": [
    "## I recommend you open a new Jupyter sheet to run your code\n",
    "\n",
    "\n",
    "Click on File->New Notebook -> Python3"
   ]
  },
  {
   "cell_type": "markdown",
   "metadata": {},
   "source": [
    "## Next: Some practice of sql queries"
   ]
  },
  {
   "cell_type": "code",
   "execution_count": 8,
   "metadata": {
    "collapsed": true
   },
   "outputs": [],
   "source": [
    "# import sqlite3 here"
   ]
  },
  {
   "cell_type": "code",
   "execution_count": 21,
   "metadata": {
    "collapsed": true
   },
   "outputs": [],
   "source": [
    "#open connection to database"
   ]
  },
  {
   "cell_type": "code",
   "execution_count": 10,
   "metadata": {
    "collapsed": false
   },
   "outputs": [
    {
     "name": "stdout",
     "output_type": "stream",
     "text": [
      "[]\n"
     ]
    }
   ],
   "source": [
    "# 1st challenge: Write a sql query to search for the name: zoidberg\n",
    "\n",
    "# Note: It will return 0"
   ]
  },
  {
   "cell_type": "markdown",
   "metadata": {},
   "source": [
    "It returned empty because there is no zoidberg in our list.\n",
    "\n",
    "Add it below.\n",
    "\n",
    "*Name*: Zoidberg\n",
    "\n",
    "*Legal name*: Planet Express\n",
    "\n",
    "*City*: New New York\n",
    "\n",
    "*State*: New New York"
   ]
  },
  {
   "cell_type": "code",
   "execution_count": 1,
   "metadata": {
    "collapsed": false
   },
   "outputs": [],
   "source": [
    "# Add the zoidberg data to the database below. remeber to commit()\n"
   ]
  },
  {
   "cell_type": "code",
   "execution_count": 12,
   "metadata": {
    "collapsed": false
   },
   "outputs": [
    {
     "name": "stdout",
     "output_type": "stream",
     "text": [
      "[('Zoidberg', 'Planet Express', 'New New York', 'New New York')]\n"
     ]
    }
   ],
   "source": [
    "# Search for zoidberg again. This time, you should get the results below:"
   ]
  },
  {
   "cell_type": "markdown",
   "metadata": {},
   "source": [
    "**Next**: Compare the number of practices in New york (NY) vs Texas (Tx)"
   ]
  },
  {
   "cell_type": "code",
   "execution_count": 13,
   "metadata": {
    "collapsed": false
   },
   "outputs": [
    {
     "name": "stdout",
     "output_type": "stream",
     "text": [
      "Number in NY:  338225\n"
     ]
    }
   ],
   "source": [
    "# Count number of practices in New York vs Texas\n",
    "\n",
    "# 1st, get number in New York. You should get the values below\n",
    "\n",
    "print(\"Number in NY: \", len(result))"
   ]
  },
  {
   "cell_type": "code",
   "execution_count": 5,
   "metadata": {
    "collapsed": false
   },
   "outputs": [
    {
     "name": "stdout",
     "output_type": "stream",
     "text": [
      "Number in TX:  230430\n"
     ]
    }
   ],
   "source": [
    "# Now get Texas: \n",
    "\n",
    "print(\"Number in TX: \", len(result))"
   ]
  },
  {
   "cell_type": "markdown",
   "metadata": {},
   "source": [
    "**Next**: Find the number of people with John in their name"
   ]
  },
  {
   "cell_type": "code",
   "execution_count": 25,
   "metadata": {
    "collapsed": false
   },
   "outputs": [
    {
     "name": "stdout",
     "output_type": "stream",
     "text": [
      "49360\n"
     ]
    }
   ],
   "source": [
    "# Find number of Johns. Remember, this uses the % symbol\n"
   ]
  },
  {
   "cell_type": "markdown",
   "metadata": {},
   "source": [
    "There is a problem with the above: It will include names like *Johnathan*.\n",
    "\n",
    "What if we only want people with the name *John*?\n",
    "\n",
    "**Hint: In the search query, use 'john %'.** Notice the space before %\n",
    "\n",
    "Try that below:"
   ]
  },
  {
   "cell_type": "code",
   "execution_count": 23,
   "metadata": {
    "collapsed": false
   },
   "outputs": [
    {
     "name": "stdout",
     "output_type": "stream",
     "text": [
      "47583\n",
      "[('JOHN CHU-HONG CHANG', '', 'PEARL RIVER', 'NY'), ('JOHN S PULIZZI', '', 'ALEXANDRIA', 'VA'), ('JOHN A GARCIA', '', 'SANTA FE', 'NM'), ('JOHN DAVID SHEPHERD', '', 'PINEHURST', 'NC'), ('JOHN PATRICK FOGARTY', '', 'GREENVILLE', 'NC'), ('JOHN  DAY', '', 'MARIETTA', 'GA')]\n"
     ]
    }
   ],
   "source": [
    "\n",
    "\n",
    "print(len(result))\n",
    "\n",
    "#This time, printing the 1st 6 results as well, to check.\n",
    "print(result[:6])"
   ]
  },
  {
   "cell_type": "code",
   "execution_count": 27,
   "metadata": {
    "collapsed": false
   },
   "outputs": [
    {
     "name": "stdout",
     "output_type": "stream",
     "text": [
      "692\n",
      "[('JOHN CRAIG ROMER', '', 'HUNTSVILLE', 'AL'), ('JOHN ALVA LONG', '', 'BIRMINGHAM', 'AL'), ('JOHN F JOHNSON', '', 'MOBILE', 'AL'), ('JOHN MICHAEL JONES', '', 'HUNTSVILLE', 'AL'), ('JOHN P. MOORE', '', 'DOTHAN', 'AL'), ('JOHN C. BULLINGTON', '', 'BIRMINGHAM', 'AL')]\n"
     ]
    }
   ],
   "source": [
    "# Now find all Johns in the state 'AL'\n",
    "\n",
    "print(len(result))\n",
    "print(result[:6])"
   ]
  },
  {
   "cell_type": "code",
   "execution_count": 28,
   "metadata": {
    "collapsed": false
   },
   "outputs": [
    {
     "name": "stdout",
     "output_type": "stream",
     "text": [
      "63\n",
      "[('JOHN F JOHNSON', '', 'MOBILE', 'AL'), ('JOHN WILLIAM BOYER', '', 'MOBILE', 'AL'), ('JOHN EVERETT STONE', '', 'MOBILE', 'AL'), ('JOHN C MCANDREW', '', 'MOBILE', 'AL'), ('JOHN E SEMON', '', 'MOBILE', 'AL'), ('JOHN RAYMOND SANDS', '', 'MOBILE', 'AL')]\n"
     ]
    }
   ],
   "source": [
    "# Finally, Johns in AL and city of Mobile.\n",
    "\n",
    "print(len(result))\n",
    "print(result[:6])"
   ]
  },
  {
   "cell_type": "code",
   "execution_count": 29,
   "metadata": {
    "collapsed": false
   },
   "outputs": [],
   "source": [
    "#Always close the database!\n",
    "\n",
    "conn.close()"
   ]
  },
  {
   "cell_type": "code",
   "execution_count": null,
   "metadata": {
    "collapsed": false
   },
   "outputs": [],
   "source": []
  }
 ],
 "metadata": {
  "kernelspec": {
   "display_name": "Python 3",
   "language": "python",
   "name": "python3"
  },
  "language_info": {
   "codemirror_mode": {
    "name": "ipython",
    "version": 3
   },
   "file_extension": ".py",
   "mimetype": "text/x-python",
   "name": "python",
   "nbconvert_exporter": "python",
   "pygments_lexer": "ipython3",
   "version": "3.4.3"
  }
 },
 "nbformat": 4,
 "nbformat_minor": 0
}

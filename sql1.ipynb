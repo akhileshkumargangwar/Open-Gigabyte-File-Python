{
 "cells": [
  {
   "cell_type": "code",
   "execution_count": 79,
   "metadata": {
    "collapsed": false
   },
   "outputs": [],
   "source": [
    "import sqlite3\n",
    "import subprocess"
   ]
  },
  {
   "cell_type": "code",
   "execution_count": 80,
   "metadata": {
    "collapsed": true
   },
   "outputs": [],
   "source": [
    "conn = sqlite3.connect(\":memory:\")\n",
    "c = conn.cursor()"
   ]
  },
  {
   "cell_type": "code",
   "execution_count": 81,
   "metadata": {
    "collapsed": false
   },
   "outputs": [
    {
     "data": {
      "text/plain": [
       "<sqlite3.Cursor at 0x7f8294020c70>"
      ]
     },
     "execution_count": 81,
     "metadata": {},
     "output_type": "execute_result"
    }
   ],
   "source": [
    "cmd = \"CREATE TABLE my_table (Name TEXT NOT NULL,\\\n",
    "                               Age INTEGER NOT NULL)\"\n",
    "\n",
    "c.execute(cmd)"
   ]
  },
  {
   "cell_type": "code",
   "execution_count": 82,
   "metadata": {
    "collapsed": false
   },
   "outputs": [],
   "source": [
    "conn.commit()\n"
   ]
  },
  {
   "cell_type": "code",
   "execution_count": 83,
   "metadata": {
    "collapsed": false
   },
   "outputs": [],
   "source": [
    "cmd = \"ALTER TABLE my_table ADD COLUMN Salary INTEGER NOT NULL DEFAULT 0\"\n",
    "c.execute(cmd)\n",
    "conn.commit()"
   ]
  },
  {
   "cell_type": "code",
   "execution_count": 84,
   "metadata": {
    "collapsed": false
   },
   "outputs": [],
   "source": [
    "cmd = \"INSERT INTO my_table VALUES ('Joe', 32, 5000)\"\n",
    "c.execute(cmd)\n",
    "conn.commit()"
   ]
  },
  {
   "cell_type": "code",
   "execution_count": 85,
   "metadata": {
    "collapsed": false
   },
   "outputs": [
    {
     "name": "stdout",
     "output_type": "stream",
     "text": [
      "INSERT INTO my_table VALUES ('Kat', 50, 7000)\n"
     ]
    }
   ],
   "source": [
    "cmd = \"INSERT INTO my_table VALUES ('{}', {}, {})\".format('Kat', 50, 7000)\n",
    "print(cmd)\n",
    "c.execute(cmd)\n",
    "conn.commit()"
   ]
  },
  {
   "cell_type": "code",
   "execution_count": 86,
   "metadata": {
    "collapsed": false
   },
   "outputs": [],
   "source": [
    "names = [ \\\n",
    "         ('James', 26, 2000),\n",
    "         ('Lot', 66, 9000),\n",
    "         ('Ian', 36, 4000),\n",
    "]\n",
    "\n",
    "c.executemany(\"INSERT INTO my_table VALUES (?,?,?)\",names)\n",
    "conn.commit()\n"
   ]
  },
  {
   "cell_type": "code",
   "execution_count": 87,
   "metadata": {
    "collapsed": false
   },
   "outputs": [
    {
     "name": "stdout",
     "output_type": "stream",
     "text": [
      "[('Joe', 32, 5000)]\n"
     ]
    }
   ],
   "source": [
    "c.execute(\"SELECT * from my_table where Name='Joe'\")\n",
    "result = c.fetchall()\n",
    "print(result)"
   ]
  },
  {
   "cell_type": "code",
   "execution_count": 88,
   "metadata": {
    "collapsed": false
   },
   "outputs": [
    {
     "name": "stdout",
     "output_type": "stream",
     "text": [
      "[('Joe', 32, 5000), ('Kat', 50, 7000), ('Lot', 66, 9000), ('Ian', 36, 4000)]\n",
      "('Lot', 66, 9000)\n"
     ]
    }
   ],
   "source": [
    "c.execute(\"SELECT * from my_table where Age > 30\")\n",
    "result = c.fetchall()\n",
    "print(result)\n",
    "print(result[2])"
   ]
  },
  {
   "cell_type": "code",
   "execution_count": 89,
   "metadata": {
    "collapsed": false
   },
   "outputs": [],
   "source": [
    "conn.close()"
   ]
  },
  {
   "cell_type": "code",
   "execution_count": null,
   "metadata": {
    "collapsed": false
   },
   "outputs": [],
   "source": []
  }
 ],
 "metadata": {
  "kernelspec": {
   "display_name": "Python 3",
   "language": "python",
   "name": "python3"
  },
  "language_info": {
   "codemirror_mode": {
    "name": "ipython",
    "version": 3
   },
   "file_extension": ".py",
   "mimetype": "text/x-python",
   "name": "python",
   "nbconvert_exporter": "python",
   "pygments_lexer": "ipython3",
   "version": "3.5.0"
  }
 },
 "nbformat": 4,
 "nbformat_minor": 0
}
